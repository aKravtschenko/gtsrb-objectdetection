{
 "cells": [
  {
   "cell_type": "code",
   "execution_count": null,
   "metadata": {},
   "outputs": [],
   "source": [
    "import os\n",
    "import pathlib\n",
    "import torch"
   ]
  },
  {
   "cell_type": "code",
   "execution_count": null,
   "metadata": {},
   "outputs": [],
   "source": [
    "# Clone the tensorflow models repository if it doesn't already exist\n",
    "if \"yolov5\" in pathlib.Path.cwd().parts:\n",
    "  while \"yolov5\" in pathlib.Path.cwd().parts:\n",
    "    os.chdir('..')\n",
    "elif not pathlib.Path('yolov5').exists():\n",
    "  !git clone --depth 1 https://github.com/ultralytics/yolov5"
   ]
  },
  {
   "cell_type": "code",
   "execution_count": null,
   "metadata": {},
   "outputs": [],
   "source": [
    "pip install -r ./yolov5/requirements.txt"
   ]
  },
  {
   "cell_type": "markdown",
   "metadata": {},
   "source": [
    "# Training"
   ]
  },
  {
   "cell_type": "code",
   "execution_count": 1,
   "metadata": {},
   "outputs": [],
   "source": [
    "import torch\n",
    "from matplotlib import pyplot as plt\n",
    "import numpy as np\n",
    "import cv2\n",
    "import itertools\n",
    "import os \n",
    "import preprocessing"
   ]
  },
  {
   "cell_type": "code",
   "execution_count": 4,
   "metadata": {},
   "outputs": [],
   "source": [
    "# Klassenamen\n",
    "class_names = [\"1\", \"2\", \"3\", \"4\", \"5\", \"6\"]"
   ]
  },
  {
   "cell_type": "code",
   "execution_count": 3,
   "metadata": {},
   "outputs": [],
   "source": [
    "test_annotation_dir = './yoloData/Test/Annotations'\n",
    "test_image_dir = './yoloData/Test/Images'\n",
    "\n",
    "preprocessing.convert_voc_to_yolo(test_annotation_dir, test_image_dir, test_annotation_dir, class_names)"
   ]
  },
  {
   "cell_type": "code",
   "execution_count": 5,
   "metadata": {},
   "outputs": [],
   "source": [
    "train_annotation_dir = './yoloData/Train/Annotations'\n",
    "train_image_dir = './yoloData/Train/Images'\n",
    "\n",
    "preprocessing.convert_voc_to_yolo(train_annotation_dir, train_image_dir, train_annotation_dir, class_names)"
   ]
  },
  {
   "cell_type": "code",
   "execution_count": 11,
   "metadata": {},
   "outputs": [
    {
     "name": "stderr",
     "output_type": "stream",
     "text": [
      "\u001b[34m\u001b[1mtrain: \u001b[0mweights=yolov5s.pt, cfg=, data=customVOC.yaml, hyp=yolov5\\data\\hyps\\hyp.scratch-low.yaml, epochs=500, batch_size=32, imgsz=320, rect=False, resume=False, nosave=False, noval=False, noautoanchor=False, noplots=False, evolve=None, evolve_population=yolov5\\data\\hyps, resume_evolve=None, bucket=, cache=None, image_weights=False, device=, multi_scale=False, single_cls=False, optimizer=SGD, sync_bn=False, workers=6, project=yolov5\\runs\\train, name=exp, exist_ok=False, quad=False, cos_lr=False, label_smoothing=0.0, patience=100, freeze=[0], save_period=-1, seed=0, local_rank=-1, entity=None, upload_dataset=False, bbox_interval=-1, artifact_alias=latest, ndjson_console=False, ndjson_file=False\n",
      "\u001b[34m\u001b[1mgithub: \u001b[0m YOLOv5 is out of date by 2 commits. Use 'git pull' or 'git clone https://github.com/ultralytics/yolov5' to update.\n",
      "YOLOv5  12be499 Python-3.9.19 torch-2.3.1+cpu CPU\n",
      "\n",
      "\u001b[34m\u001b[1mhyperparameters: \u001b[0mlr0=0.01, lrf=0.01, momentum=0.937, weight_decay=0.0005, warmup_epochs=3.0, warmup_momentum=0.8, warmup_bias_lr=0.1, box=0.05, cls=0.5, cls_pw=1.0, obj=1.0, obj_pw=1.0, iou_t=0.2, anchor_t=4.0, fl_gamma=0.0, hsv_h=0.015, hsv_s=0.7, hsv_v=0.4, degrees=0.0, translate=0.1, scale=0.5, shear=0.0, perspective=0.0, flipud=0.0, fliplr=0.5, mosaic=1.0, mixup=0.0, copy_paste=0.0\n",
      "\u001b[34m\u001b[1mComet: \u001b[0mrun 'pip install comet_ml' to automatically track and visualize YOLOv5  runs in Comet\n",
      "\u001b[34m\u001b[1mTensorBoard: \u001b[0mStart with 'tensorboard --logdir yolov5\\runs\\train', view at http://localhost:6006/\n",
      "Overriding model.yaml nc=80 with nc=6\n",
      "\n",
      "                 from  n    params  module                                  arguments                     \n",
      "  0                -1  1      3520  models.common.Conv                      [3, 32, 6, 2, 2]              \n",
      "  1                -1  1     18560  models.common.Conv                      [32, 64, 3, 2]                \n",
      "  2                -1  1     18816  models.common.C3                        [64, 64, 1]                   \n",
      "  3                -1  1     73984  models.common.Conv                      [64, 128, 3, 2]               \n",
      "  4                -1  2    115712  models.common.C3                        [128, 128, 2]                 \n",
      "  5                -1  1    295424  models.common.Conv                      [128, 256, 3, 2]              \n",
      "  6                -1  3    625152  models.common.C3                        [256, 256, 3]                 \n",
      "  7                -1  1   1180672  models.common.Conv                      [256, 512, 3, 2]              \n",
      "  8                -1  1   1182720  models.common.C3                        [512, 512, 1]                 \n",
      "  9                -1  1    656896  models.common.SPPF                      [512, 512, 5]                 \n",
      " 10                -1  1    131584  models.common.Conv                      [512, 256, 1, 1]              \n",
      " 11                -1  1         0  torch.nn.modules.upsampling.Upsample    [None, 2, 'nearest']          \n",
      " 12           [-1, 6]  1         0  models.common.Concat                    [1]                           \n",
      " 13                -1  1    361984  models.common.C3                        [512, 256, 1, False]          \n",
      " 14                -1  1     33024  models.common.Conv                      [256, 128, 1, 1]              \n",
      " 15                -1  1         0  torch.nn.modules.upsampling.Upsample    [None, 2, 'nearest']          \n",
      " 16           [-1, 4]  1         0  models.common.Concat                    [1]                           \n",
      " 17                -1  1     90880  models.common.C3                        [256, 128, 1, False]          \n",
      " 18                -1  1    147712  models.common.Conv                      [128, 128, 3, 2]              \n",
      " 19          [-1, 14]  1         0  models.common.Concat                    [1]                           \n",
      " 20                -1  1    296448  models.common.C3                        [256, 256, 1, False]          \n",
      " 21                -1  1    590336  models.common.Conv                      [256, 256, 3, 2]              \n",
      " 22          [-1, 10]  1         0  models.common.Concat                    [1]                           \n",
      " 23                -1  1   1182720  models.common.C3                        [512, 512, 1, False]          \n",
      " 24      [17, 20, 23]  1     29667  models.yolo.Detect                      [6, [[10, 13, 16, 30, 33, 23], [30, 61, 62, 45, 59, 119], [116, 90, 156, 198, 373, 326]], [128, 256, 512]]\n",
      "Model summary: 214 layers, 7035811 parameters, 7035811 gradients, 16.0 GFLOPs\n",
      "\n",
      "Transferred 343/349 items from yolov5s.pt\n",
      "\u001b[34m\u001b[1moptimizer:\u001b[0m SGD(lr=0.01) with parameter groups 57 weight(decay=0.0), 60 weight(decay=0.0005), 60 bias\n",
      "\n",
      "\u001b[34m\u001b[1mtrain: \u001b[0mScanning C:\\Users\\Alexej\\Desktop\\GTSRB\\yoloData\\Train\\Images...:   0%|          | 0/10360 [00:00<?, ?it/s]\n",
      "\u001b[34m\u001b[1mtrain: \u001b[0mScanning C:\\Users\\Alexej\\Desktop\\GTSRB\\yoloData\\Train\\Images... 0 images, 1 backgrounds, 0 corrupt:   0%|          | 1/10360 [00:14<41:11:54, 14.32s/it]\n",
      "\u001b[34m\u001b[1mtrain: \u001b[0mScanning C:\\Users\\Alexej\\Desktop\\GTSRB\\yoloData\\Train\\Images... 0 images, 422 backgrounds, 0 corrupt:   4%|▍         | 422/10360 [00:14<03:58, 41.66it/s]\n",
      "\u001b[34m\u001b[1mtrain: \u001b[0mScanning C:\\Users\\Alexej\\Desktop\\GTSRB\\yoloData\\Train\\Images... 0 images, 929 backgrounds, 0 corrupt:   9%|▉         | 929/10360 [00:14<01:24, 111.62it/s]\n",
      "\u001b[34m\u001b[1mtrain: \u001b[0mScanning C:\\Users\\Alexej\\Desktop\\GTSRB\\yoloData\\Train\\Images... 0 images, 1422 backgrounds, 0 corrupt:  14%|█▎        | 1422/10360 [00:14<00:43, 205.53it/s]\n",
      "\u001b[34m\u001b[1mtrain: \u001b[0mScanning C:\\Users\\Alexej\\Desktop\\GTSRB\\yoloData\\Train\\Images... 0 images, 1923 backgrounds, 0 corrupt:  19%|█▊        | 1923/10360 [00:14<00:25, 335.62it/s]\n",
      "\u001b[34m\u001b[1mtrain: \u001b[0mScanning C:\\Users\\Alexej\\Desktop\\GTSRB\\yoloData\\Train\\Images... 0 images, 2432 backgrounds, 0 corrupt:  23%|██▎       | 2432/10360 [00:14<00:15, 512.69it/s]\n",
      "\u001b[34m\u001b[1mtrain: \u001b[0mScanning C:\\Users\\Alexej\\Desktop\\GTSRB\\yoloData\\Train\\Images... 0 images, 2927 backgrounds, 0 corrupt:  28%|██▊       | 2927/10360 [00:14<00:10, 736.80it/s]\n",
      "\u001b[34m\u001b[1mtrain: \u001b[0mScanning C:\\Users\\Alexej\\Desktop\\GTSRB\\yoloData\\Train\\Images... 0 images, 3422 backgrounds, 0 corrupt:  33%|███▎      | 3422/10360 [00:15<00:06, 1020.29it/s]\n",
      "\u001b[34m\u001b[1mtrain: \u001b[0mScanning C:\\Users\\Alexej\\Desktop\\GTSRB\\yoloData\\Train\\Images... 0 images, 3930 backgrounds, 0 corrupt:  38%|███▊      | 3930/10360 [00:15<00:04, 1375.99it/s]\n",
      "\u001b[34m\u001b[1mtrain: \u001b[0mScanning C:\\Users\\Alexej\\Desktop\\GTSRB\\yoloData\\Train\\Images... 0 images, 4429 backgrounds, 0 corrupt:  43%|████▎     | 4429/10360 [00:15<00:03, 1776.71it/s]\n",
      "\u001b[34m\u001b[1mtrain: \u001b[0mScanning C:\\Users\\Alexej\\Desktop\\GTSRB\\yoloData\\Train\\Images... 0 images, 4939 backgrounds, 0 corrupt:  48%|████▊     | 4939/10360 [00:15<00:02, 2231.47it/s]\n",
      "\u001b[34m\u001b[1mtrain: \u001b[0mScanning C:\\Users\\Alexej\\Desktop\\GTSRB\\yoloData\\Train\\Images... 0 images, 5440 backgrounds, 0 corrupt:  53%|█████▎    | 5440/10360 [00:15<00:01, 2682.94it/s]\n",
      "\u001b[34m\u001b[1mtrain: \u001b[0mScanning C:\\Users\\Alexej\\Desktop\\GTSRB\\yoloData\\Train\\Images... 0 images, 5947 backgrounds, 0 corrupt:  57%|█████▋    | 5947/10360 [00:15<00:01, 3130.16it/s]\n",
      "\u001b[34m\u001b[1mtrain: \u001b[0mScanning C:\\Users\\Alexej\\Desktop\\GTSRB\\yoloData\\Train\\Images... 0 images, 6449 backgrounds, 0 corrupt:  62%|██████▏   | 6449/10360 [00:15<00:01, 3531.76it/s]\n",
      "\u001b[34m\u001b[1mtrain: \u001b[0mScanning C:\\Users\\Alexej\\Desktop\\GTSRB\\yoloData\\Train\\Images... 0 images, 6950 backgrounds, 0 corrupt:  67%|██████▋   | 6950/10360 [00:15<00:00, 3765.29it/s]\n",
      "\u001b[34m\u001b[1mtrain: \u001b[0mScanning C:\\Users\\Alexej\\Desktop\\GTSRB\\yoloData\\Train\\Images... 0 images, 7434 backgrounds, 0 corrupt:  72%|███████▏  | 7434/10360 [00:15<00:00, 4008.26it/s]\n",
      "\u001b[34m\u001b[1mtrain: \u001b[0mScanning C:\\Users\\Alexej\\Desktop\\GTSRB\\yoloData\\Train\\Images... 0 images, 7937 backgrounds, 0 corrupt:  77%|███████▋  | 7937/10360 [00:15<00:00, 4267.10it/s]\n",
      "\u001b[34m\u001b[1mtrain: \u001b[0mScanning C:\\Users\\Alexej\\Desktop\\GTSRB\\yoloData\\Train\\Images... 0 images, 8425 backgrounds, 0 corrupt:  81%|████████▏ | 8425/10360 [00:16<00:00, 4429.05it/s]\n",
      "\u001b[34m\u001b[1mtrain: \u001b[0mScanning C:\\Users\\Alexej\\Desktop\\GTSRB\\yoloData\\Train\\Images... 0 images, 8931 backgrounds, 0 corrupt:  86%|████████▌ | 8931/10360 [00:16<00:00, 4592.31it/s]\n",
      "\u001b[34m\u001b[1mtrain: \u001b[0mScanning C:\\Users\\Alexej\\Desktop\\GTSRB\\yoloData\\Train\\Images... 0 images, 9439 backgrounds, 0 corrupt:  91%|█████████ | 9439/10360 [00:16<00:00, 4723.44it/s]\n",
      "\u001b[34m\u001b[1mtrain: \u001b[0mScanning C:\\Users\\Alexej\\Desktop\\GTSRB\\yoloData\\Train\\Images... 0 images, 9951 backgrounds, 0 corrupt:  96%|█████████▌| 9951/10360 [00:16<00:00, 4836.56it/s]\n",
      "\u001b[34m\u001b[1mtrain: \u001b[0mScanning C:\\Users\\Alexej\\Desktop\\GTSRB\\yoloData\\Train\\Images... 0 images, 10360 backgrounds, 0 corrupt: 100%|██████████| 10360/10360 [00:16<00:00, 631.36it/s]\n",
      "\u001b[34m\u001b[1mtrain: \u001b[0mWARNING  No labels found in C:\\Users\\Alexej\\Desktop\\GTSRB\\yoloData\\Train\\Images.cache. See https://docs.ultralytics.com/yolov5/tutorials/train_custom_data\n",
      "\u001b[34m\u001b[1mtrain: \u001b[0mNew cache created: C:\\Users\\Alexej\\Desktop\\GTSRB\\yoloData\\Train\\Images.cache\n",
      "Traceback (most recent call last):\n",
      "  File \"c:\\Users\\Alexej\\Desktop\\GTSRB\\yolov5\\train.py\", line 986, in <module>\n",
      "    main(opt)\n",
      "  File \"c:\\Users\\Alexej\\Desktop\\GTSRB\\yolov5\\train.py\", line 688, in main\n",
      "    train(opt.hyp, opt, device, callbacks)\n",
      "  File \"c:\\Users\\Alexej\\Desktop\\GTSRB\\yolov5\\train.py\", line 285, in train\n",
      "    train_loader, dataset = create_dataloader(\n",
      "  File \"c:\\Users\\Alexej\\Desktop\\GTSRB\\yolov5\\utils\\dataloaders.py\", line 182, in create_dataloader\n",
      "    dataset = LoadImagesAndLabels(\n",
      "  File \"c:\\Users\\Alexej\\Desktop\\GTSRB\\yolov5\\utils\\dataloaders.py\", line 606, in __init__\n",
      "    assert nf > 0 or not augment, f\"{prefix}No labels found in {cache_path}, can not start training. {HELP_URL}\"\n",
      "AssertionError: \u001b[34m\u001b[1mtrain: \u001b[0mNo labels found in C:\\Users\\Alexej\\Desktop\\GTSRB\\yoloData\\Train\\Images.cache, can not start training. See https://docs.ultralytics.com/yolov5/tutorials/train_custom_data\n"
     ]
    }
   ],
   "source": [
    "!python ./yolov5/train.py --img 320 --batch 32 --epochs 500 --data customVOC.yaml --weights yolov5s.pt --workers 6"
   ]
  },
  {
   "cell_type": "code",
   "execution_count": null,
   "metadata": {},
   "outputs": [],
   "source": [
    "model = torch.hub.load('ultralytics/yolov5', 'custom', path='yolov5/runs/train/exp11/weights/best.pt', force_reload=True)"
   ]
  },
  {
   "cell_type": "code",
   "execution_count": null,
   "metadata": {},
   "outputs": [],
   "source": [
    "%matplotlib inline\n",
    "fig, ax = plt.subplots(2,4, figsize=(20,10))\n",
    "imgs = os.listdir('./data/images')\n",
    "\n",
    "for idx in itertools.product(range(2),range(4)): \n",
    "    imgname = np.random.choice(imgs)\n",
    "    img = cv2.imread(f'./data/images/{imgname}')\n",
    "    results = model(img)\n",
    "    ax[idx[0],idx[1]].imshow(cv2.cvtColor(np.squeeze(results.render()), cv2.COLOR_BGR2RGB))"
   ]
  }
 ],
 "metadata": {
  "kernelspec": {
   "display_name": "tf-keras",
   "language": "python",
   "name": "python3"
  },
  "language_info": {
   "codemirror_mode": {
    "name": "ipython",
    "version": 3
   },
   "file_extension": ".py",
   "mimetype": "text/x-python",
   "name": "python",
   "nbconvert_exporter": "python",
   "pygments_lexer": "ipython3",
   "version": "3.9.19"
  }
 },
 "nbformat": 4,
 "nbformat_minor": 2
}
