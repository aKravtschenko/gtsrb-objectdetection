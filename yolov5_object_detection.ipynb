{
 "cells": [
  {
   "cell_type": "markdown",
   "metadata": {},
   "source": [
    "## Imports"
   ]
  },
  {
   "cell_type": "code",
   "execution_count": 1,
   "metadata": {},
   "outputs": [],
   "source": [
    "import os\n",
    "import cv2\n",
    "import pathlib\n",
    "import itertools\n",
    "import numpy as np\n",
    "from matplotlib import pyplot as plt\n",
    "\n",
    "import torch\n",
    "import torchvision\n",
    "import ultralytics\n",
    "\n",
    "import preprocessing"
   ]
  },
  {
   "cell_type": "code",
   "execution_count": null,
   "metadata": {},
   "outputs": [],
   "source": [
    "# Clone the tensorflow models repository if it doesn't already exist\n",
    "if \"yolov5\" in pathlib.Path.cwd().parts:\n",
    "  while \"yolov5\" in pathlib.Path.cwd().parts:\n",
    "    os.chdir('..')\n",
    "elif not pathlib.Path('yolov5').exists():\n",
    "  !git clone --depth 1 https://github.com/ultralytics/yolov5"
   ]
  },
  {
   "cell_type": "code",
   "execution_count": null,
   "metadata": {},
   "outputs": [],
   "source": [
    "!cp yolov5/data/VOC.yaml yolov5/VOC.yaml "
   ]
  },
  {
   "cell_type": "code",
   "execution_count": null,
   "metadata": {},
   "outputs": [],
   "source": [
    "device = 'cuda'\n",
    "boxes = torch.tensor([[0., 1., 2., 3.]]).to(device)\n",
    "scores = torch.randn(1).to(device)\n",
    "iou_thresholds = 0.5\n",
    "\n",
    "print(torchvision.ops.nms(boxes, scores, iou_thresholds))"
   ]
  },
  {
   "cell_type": "code",
   "execution_count": 2,
   "metadata": {},
   "outputs": [
    {
     "name": "stdout",
     "output_type": "stream",
     "text": [
      "Ultralytics YOLOv8.2.59  Python-3.9.19 torch-2.3.1+cu118 CUDA:0 (NVIDIA GeForce GTX 1080, 8192MiB)\n",
      "Setup complete  (12 CPUs, 15.9 GB RAM, 191.0/222.3 GB disk)\n"
     ]
    }
   ],
   "source": [
    "ultralytics.checks()"
   ]
  },
  {
   "cell_type": "markdown",
   "metadata": {},
   "source": [
    "## 1. Create Dataset"
   ]
  },
  {
   "cell_type": "code",
   "execution_count": 3,
   "metadata": {},
   "outputs": [],
   "source": [
    "# Klassenamen\n",
    "class_names = [\"1\", \"2\", \"3\", \"4\", \"5\", \"6\"]"
   ]
  },
  {
   "cell_type": "markdown",
   "metadata": {},
   "source": [
    "## 2. Training  "
   ]
  },
  {
   "cell_type": "code",
   "execution_count": 9,
   "metadata": {},
   "outputs": [
    {
     "name": "stdout",
     "output_type": "stream",
     "text": [
      " Datentr�ger in Laufwerk C: ist Windows\n",
      " Volumeseriennummer: FC67-6046\n",
      "\n",
      " Verzeichnis von c:\\Users\\Alexej\\Desktop\\GTSRB\n",
      "\n",
      "20.07.2024  15:11    <DIR>          .\n",
      "20.07.2024  10:36    <DIR>          ..\n",
      "18.07.2024  11:45               422 .gitignore\n",
      "20.07.2024  15:13    <DIR>          __pycache__\n",
      "07.07.2024  12:44           358.497 FasterRcnnGTSRBKeras.ipynb\n",
      "07.07.2024  12:45           129.961 final_notebook.ipynb\n",
      "02.07.2024  12:15    <DIR>          GTSRB\n",
      "12.07.2024  12:51    <DIR>          inference\n",
      "06.07.2024  16:30    <DIR>          models\n",
      "07.07.2024  12:45           292.689 my_faster_rcnn.ipynb\n",
      "17.07.2024  12:24    <DIR>          myModules\n",
      "06.07.2024  16:28    <DIR>          pic\n",
      "20.07.2024  12:30             1.363 preprocessing.py\n",
      "13.05.2024  16:15             1.533 readTrafficSigns.py\n",
      "12.07.2024  16:26        12.819.444 test.ipynb\n",
      "20.07.2024  14:33            97.414 tf_object_detection.ipynb\n",
      "12.07.2024  16:41        23.658.334 tfTest.ipynb\n",
      "18.07.2024  11:45            15.324 yolo_test.ipynb\n",
      "18.07.2024  12:20    <DIR>          yoloData\n",
      "20.07.2024  13:40    <DIR>          yoloTrain\n",
      "20.07.2024  13:41    <DIR>          yolov5\n",
      "20.07.2024  15:16             6.416 yolov5_object_detection.ipynb\n",
      "20.07.2024  13:40        93.622.629 yolov5l.pt\n",
      "20.07.2024  13:39        42.806.829 yolov5m.pt\n",
      "17.07.2024  17:00        14.808.437 yolov5s.pt\n",
      "20.07.2024  13:40       174.114.333 yolov5x.pt\n",
      "              15 Datei(en),    362.733.625 Bytes\n",
      "              11 Verzeichnis(se), 33.691.217.920 Bytes frei\n"
     ]
    }
   ],
   "source": [
    "ls"
   ]
  },
  {
   "cell_type": "code",
   "execution_count": 11,
   "metadata": {},
   "outputs": [],
   "source": [
    "os.chdir('./yolov5')"
   ]
  },
  {
   "cell_type": "code",
   "execution_count": 19,
   "metadata": {},
   "outputs": [
    {
     "name": "stderr",
     "output_type": "stream",
     "text": [
      "Das System kann den angegebenen Pfad nicht finden.\n"
     ]
    }
   ],
   "source": [
    "!cd ./ # Go into yolov5 directory"
   ]
  },
  {
   "cell_type": "code",
   "execution_count": 21,
   "metadata": {},
   "outputs": [
    {
     "name": "stderr",
     "output_type": "stream",
     "text": [
      "\u001b[34m\u001b[1mtrain: \u001b[0mweights=yolov5m.pt, cfg=, data=myVOC.yaml, hyp=data\\hyps\\hyp.scratch-low.yaml, epochs=2, batch_size=32, imgsz=320, rect=False, resume=True, nosave=False, noval=False, noautoanchor=False, noplots=False, evolve=None, evolve_population=data\\hyps, resume_evolve=None, bucket=, cache=None, image_weights=False, device=, multi_scale=False, single_cls=False, optimizer=SGD, sync_bn=False, workers=2, project=../yoloTrain/, name=yolo5m50E320I, exist_ok=False, quad=False, cos_lr=False, label_smoothing=0.0, patience=10, freeze=[0], save_period=-1, seed=0, local_rank=-1, entity=None, upload_dataset=False, bbox_interval=-1, artifact_alias=latest, ndjson_console=False, ndjson_file=False\n",
      "\u001b[34m\u001b[1mgithub: \u001b[0m YOLOv5 is out of date by 3 commits. Use 'git pull' or 'git clone https://github.com/ultralytics/yolov5' to update.\n",
      "Traceback (most recent call last):\n",
      "  File \"c:\\Users\\Alexej\\Desktop\\GTSRB\\yolov5\\train.py\", line 986, in <module>\n",
      "    main(opt)\n",
      "  File \"c:\\Users\\Alexej\\Desktop\\GTSRB\\yolov5\\train.py\", line 642, in main\n",
      "    last = Path(check_file(opt.resume) if isinstance(opt.resume, str) else get_latest_run())\n",
      "  File \"c:\\Users\\Alexej\\Desktop\\GTSRB\\yolov5\\utils\\general.py\", line 504, in check_file\n",
      "    assert len(files), f\"File not found: {file}\"  # assert file was found\n",
      "AssertionError: File not found: True\n"
     ]
    }
   ],
   "source": [
    "!python train.py --img 320 --batch 32 --epochs 2 --data myVOC.yaml --weights yolov5m.pt --workers 2 --project ../yoloTrain/ --name yolo5m50E320I --patience 5"
   ]
  },
  {
   "cell_type": "code",
   "execution_count": 31,
   "metadata": {},
   "outputs": [],
   "source": [
    "!python train.py --img 320 --batch 32 --epochs 50 --data myVOC.yaml --weights ../yoloTrain/yolo5m50E320I/weights/last.pt --workers 2 --project ../yoloTrain/ --name yolo5m50E320I --patience 5"
   ]
  },
  {
   "cell_type": "code",
   "execution_count": 24,
   "metadata": {},
   "outputs": [
    {
     "name": "stderr",
     "output_type": "stream",
     "text": [
      "\u001b[34m\u001b[1mval: \u001b[0mdata=myVOC.yaml, weights=['../yoloTrain/yolo5m50E320I/weights/best.pt'], batch_size=32, imgsz=320, conf_thres=0.001, iou_thres=0.6, max_det=300, task=val, device=, workers=2, single_cls=False, augment=False, verbose=False, save_txt=False, save_hybrid=False, save_conf=False, save_json=False, project=../yoloTrain/, name=exp, exist_ok=False, half=False, dnn=False\n",
      "YOLOv5  12be499 Python-3.9.19 torch-2.3.1+cu118 CUDA:0 (NVIDIA GeForce GTX 1080, 8192MiB)\n",
      "\n",
      "Fusing layers... \n",
      "Model summary: 212 layers, 20873139 parameters, 0 gradients, 47.9 GFLOPs\n",
      "\n",
      "\u001b[34m\u001b[1mval: \u001b[0mScanning C:\\Users\\Alexej\\Desktop\\GTSRB\\yoloData\\Test\\labels.cache... 3170 images, 0 backgrounds, 0 corrupt: 100%|██████████| 3170/3170 [00:00<?, ?it/s]\n",
      "\u001b[34m\u001b[1mval: \u001b[0mScanning C:\\Users\\Alexej\\Desktop\\GTSRB\\yoloData\\Test\\labels.cache... 3170 images, 0 backgrounds, 0 corrupt: 100%|██████████| 3170/3170 [00:00<?, ?it/s]\n",
      "\n",
      "                 Class     Images  Instances          P          R      mAP50   mAP50-95:   0%|          | 0/100 [00:00<?, ?it/s]\n",
      "                 Class     Images  Instances          P          R      mAP50   mAP50-95:   1%|          | 1/100 [00:00<00:58,  1.70it/s]\n",
      "                 Class     Images  Instances          P          R      mAP50   mAP50-95:   2%|▏         | 2/100 [00:00<00:45,  2.17it/s]\n",
      "                 Class     Images  Instances          P          R      mAP50   mAP50-95:   3%|▎         | 3/100 [00:01<00:40,  2.39it/s]\n",
      "                 Class     Images  Instances          P          R      mAP50   mAP50-95:   4%|▍         | 4/100 [00:01<00:38,  2.47it/s]\n",
      "                 Class     Images  Instances          P          R      mAP50   mAP50-95:   5%|▌         | 5/100 [00:02<00:35,  2.64it/s]\n",
      "                 Class     Images  Instances          P          R      mAP50   mAP50-95:   6%|▌         | 6/100 [00:02<00:33,  2.78it/s]\n",
      "                 Class     Images  Instances          P          R      mAP50   mAP50-95:   7%|▋         | 7/100 [00:02<00:32,  2.86it/s]\n",
      "                 Class     Images  Instances          P          R      mAP50   mAP50-95:   8%|▊         | 8/100 [00:03<00:32,  2.86it/s]\n",
      "                 Class     Images  Instances          P          R      mAP50   mAP50-95:   9%|▉         | 9/100 [00:03<00:31,  2.92it/s]\n",
      "                 Class     Images  Instances          P          R      mAP50   mAP50-95:  10%|█         | 10/100 [00:03<00:31,  2.82it/s]\n",
      "                 Class     Images  Instances          P          R      mAP50   mAP50-95:  11%|█         | 11/100 [00:04<00:31,  2.86it/s]\n",
      "                 Class     Images  Instances          P          R      mAP50   mAP50-95:  12%|█▏        | 12/100 [00:04<00:30,  2.88it/s]\n",
      "                 Class     Images  Instances          P          R      mAP50   mAP50-95:  13%|█▎        | 13/100 [00:04<00:31,  2.76it/s]\n",
      "                 Class     Images  Instances          P          R      mAP50   mAP50-95:  14%|█▍        | 14/100 [00:05<00:30,  2.82it/s]\n",
      "                 Class     Images  Instances          P          R      mAP50   mAP50-95:  15%|█▌        | 15/100 [00:05<00:30,  2.78it/s]\n",
      "                 Class     Images  Instances          P          R      mAP50   mAP50-95:  16%|█▌        | 16/100 [00:05<00:29,  2.87it/s]\n",
      "                 Class     Images  Instances          P          R      mAP50   mAP50-95:  17%|█▋        | 17/100 [00:06<00:28,  2.92it/s]\n",
      "                 Class     Images  Instances          P          R      mAP50   mAP50-95:  18%|█▊        | 18/100 [00:06<00:27,  2.96it/s]\n",
      "                 Class     Images  Instances          P          R      mAP50   mAP50-95:  19%|█▉        | 19/100 [00:06<00:27,  2.98it/s]\n",
      "                 Class     Images  Instances          P          R      mAP50   mAP50-95:  20%|██        | 20/100 [00:07<00:26,  2.97it/s]\n",
      "                 Class     Images  Instances          P          R      mAP50   mAP50-95:  21%|██        | 21/100 [00:07<00:26,  2.96it/s]\n",
      "                 Class     Images  Instances          P          R      mAP50   mAP50-95:  22%|██▏       | 22/100 [00:07<00:26,  2.98it/s]\n",
      "                 Class     Images  Instances          P          R      mAP50   mAP50-95:  23%|██▎       | 23/100 [00:08<00:26,  2.89it/s]\n",
      "                 Class     Images  Instances          P          R      mAP50   mAP50-95:  24%|██▍       | 24/100 [00:08<00:25,  2.93it/s]\n",
      "                 Class     Images  Instances          P          R      mAP50   mAP50-95:  25%|██▌       | 25/100 [00:08<00:25,  2.92it/s]\n",
      "                 Class     Images  Instances          P          R      mAP50   mAP50-95:  26%|██▌       | 26/100 [00:09<00:26,  2.81it/s]\n",
      "                 Class     Images  Instances          P          R      mAP50   mAP50-95:  27%|██▋       | 27/100 [00:09<00:27,  2.67it/s]\n",
      "                 Class     Images  Instances          P          R      mAP50   mAP50-95:  28%|██▊       | 28/100 [00:10<00:26,  2.74it/s]\n",
      "                 Class     Images  Instances          P          R      mAP50   mAP50-95:  29%|██▉       | 29/100 [00:10<00:25,  2.75it/s]\n",
      "                 Class     Images  Instances          P          R      mAP50   mAP50-95:  30%|███       | 30/100 [00:10<00:25,  2.79it/s]\n",
      "                 Class     Images  Instances          P          R      mAP50   mAP50-95:  31%|███       | 31/100 [00:11<00:24,  2.85it/s]\n",
      "                 Class     Images  Instances          P          R      mAP50   mAP50-95:  32%|███▏      | 32/100 [00:11<00:23,  2.84it/s]\n",
      "                 Class     Images  Instances          P          R      mAP50   mAP50-95:  33%|███▎      | 33/100 [00:11<00:23,  2.85it/s]\n",
      "                 Class     Images  Instances          P          R      mAP50   mAP50-95:  34%|███▍      | 34/100 [00:12<00:23,  2.81it/s]\n",
      "                 Class     Images  Instances          P          R      mAP50   mAP50-95:  35%|███▌      | 35/100 [00:12<00:22,  2.83it/s]\n",
      "                 Class     Images  Instances          P          R      mAP50   mAP50-95:  36%|███▌      | 36/100 [00:12<00:22,  2.86it/s]\n",
      "                 Class     Images  Instances          P          R      mAP50   mAP50-95:  37%|███▋      | 37/100 [00:13<00:21,  2.91it/s]\n",
      "                 Class     Images  Instances          P          R      mAP50   mAP50-95:  38%|███▊      | 38/100 [00:13<00:21,  2.92it/s]\n",
      "                 Class     Images  Instances          P          R      mAP50   mAP50-95:  39%|███▉      | 39/100 [00:13<00:21,  2.81it/s]\n",
      "                 Class     Images  Instances          P          R      mAP50   mAP50-95:  40%|████      | 40/100 [00:14<00:21,  2.85it/s]\n",
      "                 Class     Images  Instances          P          R      mAP50   mAP50-95:  41%|████      | 41/100 [00:14<00:20,  2.88it/s]\n",
      "                 Class     Images  Instances          P          R      mAP50   mAP50-95:  42%|████▏     | 42/100 [00:14<00:19,  2.91it/s]\n",
      "                 Class     Images  Instances          P          R      mAP50   mAP50-95:  43%|████▎     | 43/100 [00:15<00:19,  2.89it/s]\n",
      "                 Class     Images  Instances          P          R      mAP50   mAP50-95:  44%|████▍     | 44/100 [00:15<00:19,  2.90it/s]\n",
      "                 Class     Images  Instances          P          R      mAP50   mAP50-95:  45%|████▌     | 45/100 [00:15<00:18,  2.90it/s]\n",
      "                 Class     Images  Instances          P          R      mAP50   mAP50-95:  46%|████▌     | 46/100 [00:16<00:18,  2.92it/s]\n",
      "                 Class     Images  Instances          P          R      mAP50   mAP50-95:  47%|████▋     | 47/100 [00:16<00:18,  2.92it/s]\n",
      "                 Class     Images  Instances          P          R      mAP50   mAP50-95:  48%|████▊     | 48/100 [00:16<00:17,  2.92it/s]\n",
      "                 Class     Images  Instances          P          R      mAP50   mAP50-95:  49%|████▉     | 49/100 [00:17<00:17,  2.94it/s]\n",
      "                 Class     Images  Instances          P          R      mAP50   mAP50-95:  50%|█████     | 50/100 [00:17<00:17,  2.93it/s]\n",
      "                 Class     Images  Instances          P          R      mAP50   mAP50-95:  51%|█████     | 51/100 [00:18<00:16,  2.90it/s]\n",
      "                 Class     Images  Instances          P          R      mAP50   mAP50-95:  52%|█████▏    | 52/100 [00:18<00:16,  2.90it/s]\n",
      "                 Class     Images  Instances          P          R      mAP50   mAP50-95:  53%|█████▎    | 53/100 [00:18<00:16,  2.92it/s]\n",
      "                 Class     Images  Instances          P          R      mAP50   mAP50-95:  54%|█████▍    | 54/100 [00:19<00:15,  2.89it/s]\n",
      "                 Class     Images  Instances          P          R      mAP50   mAP50-95:  55%|█████▌    | 55/100 [00:19<00:15,  2.86it/s]\n",
      "                 Class     Images  Instances          P          R      mAP50   mAP50-95:  56%|█████▌    | 56/100 [00:19<00:15,  2.87it/s]\n",
      "                 Class     Images  Instances          P          R      mAP50   mAP50-95:  57%|█████▋    | 57/100 [00:20<00:14,  2.89it/s]\n",
      "                 Class     Images  Instances          P          R      mAP50   mAP50-95:  58%|█████▊    | 58/100 [00:20<00:14,  2.87it/s]\n",
      "                 Class     Images  Instances          P          R      mAP50   mAP50-95:  59%|█████▉    | 59/100 [00:20<00:14,  2.88it/s]\n",
      "                 Class     Images  Instances          P          R      mAP50   mAP50-95:  60%|██████    | 60/100 [00:21<00:14,  2.85it/s]\n",
      "                 Class     Images  Instances          P          R      mAP50   mAP50-95:  61%|██████    | 61/100 [00:21<00:13,  2.90it/s]\n",
      "                 Class     Images  Instances          P          R      mAP50   mAP50-95:  62%|██████▏   | 62/100 [00:21<00:13,  2.90it/s]\n",
      "                 Class     Images  Instances          P          R      mAP50   mAP50-95:  63%|██████▎   | 63/100 [00:22<00:12,  2.87it/s]\n",
      "                 Class     Images  Instances          P          R      mAP50   mAP50-95:  64%|██████▍   | 64/100 [00:22<00:12,  2.92it/s]\n",
      "                 Class     Images  Instances          P          R      mAP50   mAP50-95:  65%|██████▌   | 65/100 [00:22<00:12,  2.88it/s]\n",
      "                 Class     Images  Instances          P          R      mAP50   mAP50-95:  66%|██████▌   | 66/100 [00:23<00:11,  2.91it/s]\n",
      "                 Class     Images  Instances          P          R      mAP50   mAP50-95:  67%|██████▋   | 67/100 [00:23<00:11,  2.92it/s]\n",
      "                 Class     Images  Instances          P          R      mAP50   mAP50-95:  68%|██████▊   | 68/100 [00:23<00:10,  2.95it/s]\n",
      "                 Class     Images  Instances          P          R      mAP50   mAP50-95:  69%|██████▉   | 69/100 [00:24<00:10,  2.96it/s]\n",
      "                 Class     Images  Instances          P          R      mAP50   mAP50-95:  70%|███████   | 70/100 [00:24<00:10,  2.96it/s]\n",
      "                 Class     Images  Instances          P          R      mAP50   mAP50-95:  71%|███████   | 71/100 [00:24<00:09,  2.97it/s]\n",
      "                 Class     Images  Instances          P          R      mAP50   mAP50-95:  72%|███████▏  | 72/100 [00:25<00:09,  2.98it/s]\n",
      "                 Class     Images  Instances          P          R      mAP50   mAP50-95:  73%|███████▎  | 73/100 [00:25<00:09,  2.91it/s]\n",
      "                 Class     Images  Instances          P          R      mAP50   mAP50-95:  74%|███████▍  | 74/100 [00:25<00:08,  2.94it/s]\n",
      "                 Class     Images  Instances          P          R      mAP50   mAP50-95:  75%|███████▌  | 75/100 [00:26<00:08,  2.95it/s]\n",
      "                 Class     Images  Instances          P          R      mAP50   mAP50-95:  76%|███████▌  | 76/100 [00:26<00:08,  2.97it/s]\n",
      "                 Class     Images  Instances          P          R      mAP50   mAP50-95:  77%|███████▋  | 77/100 [00:26<00:07,  2.94it/s]\n",
      "                 Class     Images  Instances          P          R      mAP50   mAP50-95:  78%|███████▊  | 78/100 [00:27<00:07,  2.96it/s]\n",
      "                 Class     Images  Instances          P          R      mAP50   mAP50-95:  79%|███████▉  | 79/100 [00:27<00:07,  2.98it/s]\n",
      "                 Class     Images  Instances          P          R      mAP50   mAP50-95:  80%|████████  | 80/100 [00:27<00:06,  3.03it/s]\n",
      "                 Class     Images  Instances          P          R      mAP50   mAP50-95:  81%|████████  | 81/100 [00:28<00:06,  2.94it/s]\n",
      "                 Class     Images  Instances          P          R      mAP50   mAP50-95:  82%|████████▏ | 82/100 [00:28<00:06,  2.89it/s]\n",
      "                 Class     Images  Instances          P          R      mAP50   mAP50-95:  83%|████████▎ | 83/100 [00:28<00:05,  2.94it/s]\n",
      "                 Class     Images  Instances          P          R      mAP50   mAP50-95:  84%|████████▍ | 84/100 [00:29<00:05,  2.97it/s]\n",
      "                 Class     Images  Instances          P          R      mAP50   mAP50-95:  85%|████████▌ | 85/100 [00:29<00:04,  3.02it/s]\n",
      "                 Class     Images  Instances          P          R      mAP50   mAP50-95:  86%|████████▌ | 86/100 [00:29<00:04,  3.04it/s]\n",
      "                 Class     Images  Instances          P          R      mAP50   mAP50-95:  87%|████████▋ | 87/100 [00:30<00:04,  3.06it/s]\n",
      "                 Class     Images  Instances          P          R      mAP50   mAP50-95:  88%|████████▊ | 88/100 [00:30<00:03,  3.10it/s]\n",
      "                 Class     Images  Instances          P          R      mAP50   mAP50-95:  89%|████████▉ | 89/100 [00:30<00:03,  3.13it/s]\n",
      "                 Class     Images  Instances          P          R      mAP50   mAP50-95:  90%|█████████ | 90/100 [00:31<00:03,  3.06it/s]\n",
      "                 Class     Images  Instances          P          R      mAP50   mAP50-95:  91%|█████████ | 91/100 [00:31<00:02,  3.08it/s]\n",
      "                 Class     Images  Instances          P          R      mAP50   mAP50-95:  92%|█████████▏| 92/100 [00:31<00:02,  3.11it/s]\n",
      "                 Class     Images  Instances          P          R      mAP50   mAP50-95:  93%|█████████▎| 93/100 [00:32<00:02,  3.12it/s]\n",
      "                 Class     Images  Instances          P          R      mAP50   mAP50-95:  94%|█████████▍| 94/100 [00:32<00:01,  3.13it/s]\n",
      "                 Class     Images  Instances          P          R      mAP50   mAP50-95:  95%|█████████▌| 95/100 [00:32<00:01,  3.13it/s]\n",
      "                 Class     Images  Instances          P          R      mAP50   mAP50-95:  96%|█████████▌| 96/100 [00:33<00:01,  3.18it/s]\n",
      "                 Class     Images  Instances          P          R      mAP50   mAP50-95:  97%|█████████▋| 97/100 [00:33<00:00,  3.15it/s]\n",
      "                 Class     Images  Instances          P          R      mAP50   mAP50-95:  98%|█████████▊| 98/100 [00:33<00:00,  3.23it/s]\n",
      "                 Class     Images  Instances          P          R      mAP50   mAP50-95:  99%|█████████▉| 99/100 [00:34<00:00,  3.24it/s]\n",
      "                 Class     Images  Instances          P          R      mAP50   mAP50-95: 100%|██████████| 100/100 [00:34<00:00,  2.93it/s]\n",
      "                   all       3170       3170       0.99       0.99      0.995      0.913\n",
      "                     1       3170        720      0.985      0.993      0.995      0.941\n",
      "                     2       3170        750      0.987      0.996      0.995      0.945\n",
      "                     3       3170        690      0.998      0.988      0.995      0.908\n",
      "                     4       3170        270          1      0.997      0.995       0.94\n",
      "                     5       3170        360          1      0.979      0.995      0.844\n",
      "                     6       3170        380      0.971      0.986      0.993      0.899\n",
      "Speed: 0.1ms pre-process, 3.2ms inference, 1.4ms NMS per image at shape (32, 3, 320, 320)\n",
      "Results saved to \u001b[1m..\\yoloTrain\\exp\u001b[0m\n"
     ]
    }
   ],
   "source": [
    "!python val.py --img 320 --data myVOC.yaml --weights ../yoloTrain/yolo5m50E320I/weights/best.pt --workers 2 --project ../yoloTrain/ --name yolo5m50E320I"
   ]
  },
  {
   "cell_type": "markdown",
   "metadata": {},
   "source": [
    "## 3. Evaluation"
   ]
  },
  {
   "cell_type": "code",
   "execution_count": null,
   "metadata": {},
   "outputs": [],
   "source": [
    "cd .. # Go in root directory"
   ]
  },
  {
   "cell_type": "markdown",
   "metadata": {},
   "source": [
    "### 3.1 Video evaluation"
   ]
  },
  {
   "cell_type": "code",
   "execution_count": null,
   "metadata": {},
   "outputs": [],
   "source": [
    "!python detect.py --source 0  --weights ./runs/train/exp8/weights/best.pt --img 320 --conf-thres 0.6"
   ]
  },
  {
   "cell_type": "markdown",
   "metadata": {},
   "source": [
    "## 3.2 Simple detection "
   ]
  },
  {
   "cell_type": "code",
   "execution_count": null,
   "metadata": {},
   "outputs": [],
   "source": [
    "!python detect.py --source ../yoloData/Test/images --weights ./runs/train/exp8/weights/last.pt --img 320 --save-txt --save-conf --line-thickness 1"
   ]
  },
  {
   "cell_type": "markdown",
   "metadata": {},
   "source": [
    "## 4. Inference"
   ]
  },
  {
   "cell_type": "code",
   "execution_count": null,
   "metadata": {},
   "outputs": [],
   "source": [
    "model = torch.hub.load('ultralytics/yolov5', 'custom', path='./runs/train/exp8/weights/best.pt', force_reload=True)\n",
    "model.eval()"
   ]
  },
  {
   "cell_type": "code",
   "execution_count": null,
   "metadata": {},
   "outputs": [],
   "source": [
    "fig, ax = plt.subplots(2,4, figsize=(20,10))\n",
    "imgs = os.listdir('../yoloData/Test/images')\n",
    "\n",
    "for idx in itertools.product(range(2),range(4)): \n",
    "    imgname = np.random.choice(imgs)\n",
    "    img = cv2.imread(f'../yoloData/Test/images/{imgname}')\n",
    "    results = model(img)\n",
    "    ax[idx[0],idx[1]].imshow(cv2.cvtColor(np.squeeze(results.render()), cv2.COLOR_BGR2RGB))"
   ]
  },
  {
   "cell_type": "code",
   "execution_count": null,
   "metadata": {},
   "outputs": [],
   "source": [
    "import glob\n",
    "from IPython.display import Image, display\n",
    "\n",
    "for imageName in glob.glob('./runs/detect/exp12/*.jpg'): #assuming JPG\n",
    "    display(Image(filename=imageName, width=320, height=320))\n",
    "    print(\"\\n\")"
   ]
  },
  {
   "cell_type": "code",
   "execution_count": null,
   "metadata": {},
   "outputs": [],
   "source": [
    "fig, ax = plt.subplots(2,4, figsize=(20,10))\n",
    "imgs = os.listdir('../yoloData/Test/images')\n",
    "\n",
    "for idx in itertools.product(range(2),range(4)): \n",
    "    imgname = np.random.choice(imgs)\n",
    "    img = cv2.imread(f'../yoloData/Test/images/{imgname}')\n",
    "    results = model(img)\n",
    "    ax[idx[0],idx[1]].imshow(cv2.cvtColor(np.squeeze(results.render()), cv2.COLOR_BGR2RGB))"
   ]
  }
 ],
 "metadata": {
  "kernelspec": {
   "display_name": "tf-keras",
   "language": "python",
   "name": "python3"
  },
  "language_info": {
   "codemirror_mode": {
    "name": "ipython",
    "version": 3
   },
   "file_extension": ".py",
   "mimetype": "text/x-python",
   "name": "python",
   "nbconvert_exporter": "python",
   "pygments_lexer": "ipython3",
   "version": "3.9.19"
  }
 },
 "nbformat": 4,
 "nbformat_minor": 2
}
